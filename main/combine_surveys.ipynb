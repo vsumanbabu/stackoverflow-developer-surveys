{
 "cells": [
  {
   "cell_type": "code",
   "execution_count": 36,
   "metadata": {},
   "outputs": [
    {
     "name": "stdout",
     "output_type": "stream",
     "text": [
      "Requirement already satisfied: chardet in /Users/suman/opt/miniconda3/envs/stackoverflow-developer-survey-env/lib/python3.8/site-packages (3.0.4)\r\n"
     ]
    }
   ],
   "source": [
    "!pip install chardet"
   ]
  },
  {
   "cell_type": "code",
   "execution_count": 37,
   "metadata": {},
   "outputs": [],
   "source": [
    "import numpy as np\n",
    "import pandas as pd\n",
    "import matplotlib.pyplot as plt\n",
    "from IPython import display\n",
    "%matplotlib inline\n",
    "from pandas_profiling import ProfileReport\n",
    "import chardet"
   ]
  },
  {
   "cell_type": "code",
   "execution_count": 49,
   "metadata": {},
   "outputs": [
    {
     "data": {
      "text/html": [
       "<div>\n",
       "<style scoped>\n",
       "    .dataframe tbody tr th:only-of-type {\n",
       "        vertical-align: middle;\n",
       "    }\n",
       "\n",
       "    .dataframe tbody tr th {\n",
       "        vertical-align: top;\n",
       "    }\n",
       "\n",
       "    .dataframe thead th {\n",
       "        text-align: right;\n",
       "    }\n",
       "</style>\n",
       "<table border=\"1\" class=\"dataframe\">\n",
       "  <thead>\n",
       "    <tr style=\"text-align: right;\">\n",
       "      <th></th>\n",
       "      <th>fileName</th>\n",
       "      <th>encoding</th>\n",
       "    </tr>\n",
       "  </thead>\n",
       "  <tbody>\n",
       "    <tr>\n",
       "      <th>0</th>\n",
       "      <td>../data/survey_results_public_2011.csv</td>\n",
       "      <td>ISO-8859-1</td>\n",
       "    </tr>\n",
       "    <tr>\n",
       "      <th>1</th>\n",
       "      <td>../data/survey_results_public_2012.csv</td>\n",
       "      <td>Windows-1252</td>\n",
       "    </tr>\n",
       "    <tr>\n",
       "      <th>2</th>\n",
       "      <td>../data/survey_results_public_2013.csv</td>\n",
       "      <td>utf-8</td>\n",
       "    </tr>\n",
       "    <tr>\n",
       "      <th>3</th>\n",
       "      <td>../data/survey_results_public_2014.csv</td>\n",
       "      <td>utf-8</td>\n",
       "    </tr>\n",
       "    <tr>\n",
       "      <th>4</th>\n",
       "      <td>../data/survey_results_public_2015.csv</td>\n",
       "      <td>utf-8</td>\n",
       "    </tr>\n",
       "    <tr>\n",
       "      <th>5</th>\n",
       "      <td>../data/survey_results_public_2016.csv</td>\n",
       "      <td>ascii</td>\n",
       "    </tr>\n",
       "    <tr>\n",
       "      <th>6</th>\n",
       "      <td>../data/survey_results_public_2017.csv</td>\n",
       "      <td>utf-8</td>\n",
       "    </tr>\n",
       "    <tr>\n",
       "      <th>7</th>\n",
       "      <td>../data/survey_results_public_2018.csv</td>\n",
       "      <td>utf-8</td>\n",
       "    </tr>\n",
       "    <tr>\n",
       "      <th>8</th>\n",
       "      <td>../data/survey_results_public_2019.csv</td>\n",
       "      <td>utf-8</td>\n",
       "    </tr>\n",
       "  </tbody>\n",
       "</table>\n",
       "</div>"
      ],
      "text/plain": [
       "                                 fileName      encoding\n",
       "0  ../data/survey_results_public_2011.csv    ISO-8859-1\n",
       "1  ../data/survey_results_public_2012.csv  Windows-1252\n",
       "2  ../data/survey_results_public_2013.csv         utf-8\n",
       "3  ../data/survey_results_public_2014.csv         utf-8\n",
       "4  ../data/survey_results_public_2015.csv         utf-8\n",
       "5  ../data/survey_results_public_2016.csv         ascii\n",
       "6  ../data/survey_results_public_2017.csv         utf-8\n",
       "7  ../data/survey_results_public_2018.csv         utf-8\n",
       "8  ../data/survey_results_public_2019.csv         utf-8"
      ]
     },
     "execution_count": 49,
     "metadata": {},
     "output_type": "execute_result"
    }
   ],
   "source": [
    "# intialise data of lists. \n",
    "file_encoding = {'fileName':['../data/survey_results_public_2011.csv', \\\n",
    "                    '../data/survey_results_public_2012.csv',\\\n",
    "                    '../data/survey_results_public_2013.csv',\\\n",
    "                    '../data/survey_results_public_2014.csv',\\\n",
    "                    '../data/survey_results_public_2015.csv',\\\n",
    "                    '../data/survey_results_public_2016.csv',\\\n",
    "                    '../data/survey_results_public_2017.csv',\\\n",
    "                    '../data/survey_results_public_2018.csv',\\\n",
    "                    '../data/survey_results_public_2019.csv',\\\n",
    "                   ], \\\n",
    "        'encoding':['ISO-8859-1','Windows-1252','utf-8','utf-8','utf-8','ascii','utf-8','utf-8','utf-8']} \n",
    "  \n",
    "# Create DataFrame \n",
    "df_file_encoding = pd.DataFrame(file_encoding) \n",
    "  \n",
    "# Print the output. \n",
    "df_file_encoding "
   ]
  },
  {
   "cell_type": "code",
   "execution_count": 47,
   "metadata": {},
   "outputs": [],
   "source": [
    "'''\n",
    "for i in range(2011,2020):\n",
    "    file_name='../data/survey_results_public_' + str(i) + '.csv'\n",
    "    with open(file_name, 'rb') as file:\n",
    "        print(file_name,chardet.detect(file.read()))\n",
    "'''\n"
   ]
  },
  {
   "cell_type": "code",
   "execution_count": null,
   "metadata": {},
   "outputs": [],
   "source": [
    "'''\n",
    "\n",
    "../data/survey_results_public_2011.csv {'encoding': 'ISO-8859-1', 'confidence': 0.73, 'language': ''}\n",
    "../data/survey_results_public_2012.csv {'encoding': 'Windows-1252', 'confidence': 0.73, 'language': ''}\n",
    "../data/survey_results_public_2013.csv {'encoding': 'utf-8', 'confidence': 0.99, 'language': ''}\n",
    "../data/survey_results_public_2014.csv {'encoding': 'utf-8', 'confidence': 0.99, 'language': ''}\n",
    "../data/survey_results_public_2015.csv {'encoding': 'utf-8', 'confidence': 0.99, 'language': ''}\n",
    "../data/survey_results_public_2016.csv {'encoding': 'ascii', 'confidence': 1.0, 'language': ''}\n",
    "../data/survey_results_public_2017.csv {'encoding': 'utf-8', 'confidence': 1.0, 'language': ''}\n",
    "../data/survey_results_public_2018.csv {'encoding': 'utf-8', 'confidence': 1.0, 'language': ''}\n",
    "../data/survey_results_public_2019.csv {'encoding': 'utf-8', 'confidence': 1.0, 'language': ''}\n",
    "'''"
   ]
  },
  {
   "cell_type": "code",
   "execution_count": 65,
   "metadata": {},
   "outputs": [
    {
     "name": "stdout",
     "output_type": "stream",
     "text": [
      "../data/survey_results_public_2011.csv ISO-8859-1 2814 65\n",
      "../data/survey_results_public_2012.csv Windows-1252 6244 75\n",
      "../data/survey_results_public_2013.csv utf-8 9743 128\n",
      "../data/survey_results_public_2014.csv utf-8 7644 120\n",
      "../data/survey_results_public_2015.csv utf-8 26087 222\n",
      "../data/survey_results_public_2016.csv ascii 56030 66\n",
      "../data/survey_results_public_2017.csv utf-8 51392 154\n",
      "../data/survey_results_public_2018.csv utf-8 98855 129\n",
      "../data/survey_results_public_2019.csv utf-8 88883 85\n"
     ]
    }
   ],
   "source": [
    "df_file_encoding['encoding']\n",
    "for i in range (0,9):\n",
    "    df=pd.read_csv(df_file_encoding['fileName'][i],encoding =df_file_encoding['encoding'][i],dtype='unicode')\n",
    "    print(df_file_encoding['fileName'][i],df_file_encoding['encoding'][i],df.shape[0],df.shape[1])"
   ]
  },
  {
   "cell_type": "code",
   "execution_count": null,
   "metadata": {},
   "outputs": [],
   "source": []
  }
 ],
 "metadata": {
  "kernelspec": {
   "display_name": "Python 3",
   "language": "python",
   "name": "python3"
  },
  "language_info": {
   "codemirror_mode": {
    "name": "ipython",
    "version": 3
   },
   "file_extension": ".py",
   "mimetype": "text/x-python",
   "name": "python",
   "nbconvert_exporter": "python",
   "pygments_lexer": "ipython3",
   "version": "3.8.2"
  }
 },
 "nbformat": 4,
 "nbformat_minor": 4
}
