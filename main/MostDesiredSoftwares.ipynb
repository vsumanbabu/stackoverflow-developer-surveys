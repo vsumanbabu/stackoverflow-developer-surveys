{
 "cells": [
  {
   "cell_type": "code",
   "execution_count": 1,
   "metadata": {},
   "outputs": [],
   "source": [
    "'''\n",
    "Import Necessary Packages and Libraries\n",
    "'''\n",
    "import numpy as np\n",
    "import pandas as pd\n",
    "import matplotlib.pyplot as plt\n",
    "from IPython import display\n",
    "%matplotlib inline\n",
    "from pandas_profiling import ProfileReport\n",
    "from csv import reader,DictReader"
   ]
  },
  {
   "cell_type": "code",
   "execution_count": 2,
   "metadata": {},
   "outputs": [],
   "source": [
    "'''\n",
    "1. Business Understanding\n",
    "2. Data Understanding\n",
    "3. Prepare Data\n",
    "4. Data Modeling\n",
    "5. Evaluate the Results\n",
    "6. Deploy\n",
    "'''\n",
    "pass"
   ]
  },
  {
   "cell_type": "code",
   "execution_count": 3,
   "metadata": {},
   "outputs": [],
   "source": [
    "'''\n",
    "1. Business Understanding\n",
    "\n",
    "Below are some business questions\n",
    "1.) What are the most desired Platforms next year (2020)?\n",
    "2.) What are the most desired Databases next year (2020)?\n",
    "3.) What are the most desired Programming Languages next year (2020)?\n",
    "4.) What are the most desired Web Frameworks next year (2020)?\n",
    "5.) What are the most desired Dev environments?\n",
    "'''\n",
    "pass"
   ]
  },
  {
   "cell_type": "code",
   "execution_count": 4,
   "metadata": {},
   "outputs": [],
   "source": [
    "'''\n",
    "Defining constants\n",
    "'''\n",
    "data_file='../data/survey_results_public_2019.csv'\n",
    "data_profile_report='../reports/data_profile_survey_results_public_2019.csv.html'"
   ]
  },
  {
   "cell_type": "code",
   "execution_count": 5,
   "metadata": {},
   "outputs": [],
   "source": [
    "'''\n",
    "Read csv and create dataframe\n",
    "'''\n",
    "df_2019=pd.read_csv(data_file,\\\n",
    "               delimiter=',',\\\n",
    "               header=0,\\\n",
    "               encoding ='utf-8'\\\n",
    "              )"
   ]
  },
  {
   "cell_type": "code",
   "execution_count": 6,
   "metadata": {},
   "outputs": [],
   "source": [
    "'''\n",
    "Profile Data\n",
    "'''\n",
    "#profile = ProfileReport(df)\n",
    "#profile.to_file(output_file=data_profile_report)\n",
    "pass"
   ]
  },
  {
   "cell_type": "code",
   "execution_count": 7,
   "metadata": {},
   "outputs": [],
   "source": [
    "def get_df_desired_x(df,cs,cd):\n",
    "    \"\"\" Get a data\n",
    "    Args:\n",
    "    df - data_frame. Data to be searched for the s/w component\n",
    "    cs - float. Name of the field in the data frame to be searched\n",
    "    cd - float. Name of the desired s/w component in output\n",
    "    \n",
    "    Logic:\n",
    "    Parses a ';' delimited text and gets the frequency of each word\n",
    "    \n",
    "    Returns:\n",
    "    Dataframe with most frequent occurences of a word (In this case s/w)\n",
    "    \"\"\"\n",
    "\n",
    "    #Split string and conver to a series\n",
    "    df['split_cs']=df[cs].str.split(\";\")\n",
    "    df1=df['split_cs'].apply(pd.Series).stack().reset_index(drop=True)\n",
    "\n",
    "    #Convert Series to Data frame and add a column for counting later\n",
    "    df2=df1.to_frame()\n",
    "    df2.columns = [cd]\n",
    "    df2['cntr']=1\n",
    "\n",
    "\n",
    "    #Get the count of each work and order by descending occurence\n",
    "    df3=df2.groupby(cd).sum()['cntr'].to_frame()\n",
    "    df3.columns = ['Counts']\n",
    "    df3 = df3.sort_values('Counts',ascending=False)\n",
    "\n",
    "    \n",
    "    \n",
    "    return df3"
   ]
  },
  {
   "cell_type": "code",
   "execution_count": 8,
   "metadata": {},
   "outputs": [
    {
     "data": {
      "text/html": [
       "<div>\n",
       "<style scoped>\n",
       "    .dataframe tbody tr th:only-of-type {\n",
       "        vertical-align: middle;\n",
       "    }\n",
       "\n",
       "    .dataframe tbody tr th {\n",
       "        vertical-align: top;\n",
       "    }\n",
       "\n",
       "    .dataframe thead th {\n",
       "        text-align: right;\n",
       "    }\n",
       "</style>\n",
       "<table border=\"1\" class=\"dataframe\">\n",
       "  <thead>\n",
       "    <tr style=\"text-align: right;\">\n",
       "      <th></th>\n",
       "      <th>Counts</th>\n",
       "    </tr>\n",
       "    <tr>\n",
       "      <th>PlatformsDesired</th>\n",
       "      <th></th>\n",
       "    </tr>\n",
       "  </thead>\n",
       "  <tbody>\n",
       "    <tr>\n",
       "      <th>Linux</th>\n",
       "      <td>42178</td>\n",
       "    </tr>\n",
       "    <tr>\n",
       "      <th>Docker</th>\n",
       "      <td>32963</td>\n",
       "    </tr>\n",
       "    <tr>\n",
       "      <th>Windows</th>\n",
       "      <td>28215</td>\n",
       "    </tr>\n",
       "    <tr>\n",
       "      <th>AWS</th>\n",
       "      <td>26298</td>\n",
       "    </tr>\n",
       "    <tr>\n",
       "      <th>Android</th>\n",
       "      <td>24749</td>\n",
       "    </tr>\n",
       "    <tr>\n",
       "      <th>Kubernetes</th>\n",
       "      <td>17793</td>\n",
       "    </tr>\n",
       "    <tr>\n",
       "      <th>Raspberry Pi</th>\n",
       "      <td>17768</td>\n",
       "    </tr>\n",
       "    <tr>\n",
       "      <th>MacOS</th>\n",
       "      <td>17433</td>\n",
       "    </tr>\n",
       "    <tr>\n",
       "      <th>Google Cloud Platform</th>\n",
       "      <td>15916</td>\n",
       "    </tr>\n",
       "    <tr>\n",
       "      <th>iOS</th>\n",
       "      <td>14494</td>\n",
       "    </tr>\n",
       "    <tr>\n",
       "      <th>Slack</th>\n",
       "      <td>13548</td>\n",
       "    </tr>\n",
       "    <tr>\n",
       "      <th>Microsoft Azure</th>\n",
       "      <td>11898</td>\n",
       "    </tr>\n",
       "    <tr>\n",
       "      <th>Arduino</th>\n",
       "      <td>11143</td>\n",
       "    </tr>\n",
       "    <tr>\n",
       "      <th>Heroku</th>\n",
       "      <td>7526</td>\n",
       "    </tr>\n",
       "    <tr>\n",
       "      <th>WordPress</th>\n",
       "      <td>6586</td>\n",
       "    </tr>\n",
       "    <tr>\n",
       "      <th>IBM Cloud or Watson</th>\n",
       "      <td>2937</td>\n",
       "    </tr>\n",
       "    <tr>\n",
       "      <th>Other(s):</th>\n",
       "      <td>2641</td>\n",
       "    </tr>\n",
       "  </tbody>\n",
       "</table>\n",
       "</div>"
      ],
      "text/plain": [
       "                       Counts\n",
       "PlatformsDesired             \n",
       "Linux                   42178\n",
       "Docker                  32963\n",
       "Windows                 28215\n",
       "AWS                     26298\n",
       "Android                 24749\n",
       "Kubernetes              17793\n",
       "Raspberry Pi            17768\n",
       "MacOS                   17433\n",
       "Google Cloud Platform   15916\n",
       "iOS                     14494\n",
       "Slack                   13548\n",
       "Microsoft Azure         11898\n",
       "Arduino                 11143\n",
       "Heroku                   7526\n",
       "WordPress                6586\n",
       "IBM Cloud or Watson      2937\n",
       "Other(s):                2641"
      ]
     },
     "execution_count": 8,
     "metadata": {},
     "output_type": "execute_result"
    }
   ],
   "source": [
    "'''\n",
    "1.) What are the most desired Platforms next year (2020)?\n",
    "Data\n",
    "'''\n",
    "df_desired_platforms=get_df_desired_x(df_2019,'PlatformDesireNextYear','PlatformsDesired')\n",
    "df_desired_platforms"
   ]
  },
  {
   "cell_type": "code",
   "execution_count": 9,
   "metadata": {},
   "outputs": [
    {
     "data": {
      "text/plain": [
       "<Figure size 576x396 with 0 Axes>"
      ]
     },
     "metadata": {},
     "output_type": "display_data"
    },
    {
     "data": {
      "image/png": "[encoded data removed]",
      "text/plain": [
       "<Figure size 576x396 with 1 Axes>"
      ]
     },
     "metadata": {},
     "output_type": "display_data"
    }
   ],
   "source": [
    "'''\n",
    "1.) What are the most desired Platforms next year (2020)?\n",
    "Plot\n",
    "'''\n",
    "plt.figure()\n",
    "df_desired_platforms.plot(kind='bar')\n",
    "plt.title('Most desired Platforms next year (2020)')\n",
    "plt.ylabel('Desire Count')\n",
    "plt.show()"
   ]
  },
  {
   "cell_type": "code",
   "execution_count": 10,
   "metadata": {},
   "outputs": [
    {
     "data": {
      "text/html": [
       "<div>\n",
       "<style scoped>\n",
       "    .dataframe tbody tr th:only-of-type {\n",
       "        vertical-align: middle;\n",
       "    }\n",
       "\n",
       "    .dataframe tbody tr th {\n",
       "        vertical-align: top;\n",
       "    }\n",
       "\n",
       "    .dataframe thead th {\n",
       "        text-align: right;\n",
       "    }\n",
       "</style>\n",
       "<table border=\"1\" class=\"dataframe\">\n",
       "  <thead>\n",
       "    <tr style=\"text-align: right;\">\n",
       "      <th></th>\n",
       "      <th>Counts</th>\n",
       "    </tr>\n",
       "    <tr>\n",
       "      <th>DatabaseDesired</th>\n",
       "      <th></th>\n",
       "    </tr>\n",
       "  </thead>\n",
       "  <tbody>\n",
       "    <tr>\n",
       "      <th>PostgreSQL</th>\n",
       "      <td>26446</td>\n",
       "    </tr>\n",
       "    <tr>\n",
       "      <th>MySQL</th>\n",
       "      <td>25750</td>\n",
       "    </tr>\n",
       "    <tr>\n",
       "      <th>MongoDB</th>\n",
       "      <td>23667</td>\n",
       "    </tr>\n",
       "    <tr>\n",
       "      <th>Redis</th>\n",
       "      <td>17913</td>\n",
       "    </tr>\n",
       "    <tr>\n",
       "      <th>SQLite</th>\n",
       "      <td>17807</td>\n",
       "    </tr>\n",
       "    <tr>\n",
       "      <th>Microsoft SQL Server</th>\n",
       "      <td>16225</td>\n",
       "    </tr>\n",
       "    <tr>\n",
       "      <th>Elasticsearch</th>\n",
       "      <td>15440</td>\n",
       "    </tr>\n",
       "    <tr>\n",
       "      <th>Firebase</th>\n",
       "      <td>11921</td>\n",
       "    </tr>\n",
       "    <tr>\n",
       "      <th>MariaDB</th>\n",
       "      <td>9986</td>\n",
       "    </tr>\n",
       "    <tr>\n",
       "      <th>Oracle</th>\n",
       "      <td>7299</td>\n",
       "    </tr>\n",
       "    <tr>\n",
       "      <th>DynamoDB</th>\n",
       "      <td>6126</td>\n",
       "    </tr>\n",
       "    <tr>\n",
       "      <th>Cassandra</th>\n",
       "      <td>6056</td>\n",
       "    </tr>\n",
       "    <tr>\n",
       "      <th>Other(s):</th>\n",
       "      <td>4516</td>\n",
       "    </tr>\n",
       "    <tr>\n",
       "      <th>Couchbase</th>\n",
       "      <td>2469</td>\n",
       "    </tr>\n",
       "  </tbody>\n",
       "</table>\n",
       "</div>"
      ],
      "text/plain": [
       "                      Counts\n",
       "DatabaseDesired             \n",
       "PostgreSQL             26446\n",
       "MySQL                  25750\n",
       "MongoDB                23667\n",
       "Redis                  17913\n",
       "SQLite                 17807\n",
       "Microsoft SQL Server   16225\n",
       "Elasticsearch          15440\n",
       "Firebase               11921\n",
       "MariaDB                 9986\n",
       "Oracle                  7299\n",
       "DynamoDB                6126\n",
       "Cassandra               6056\n",
       "Other(s):               4516\n",
       "Couchbase               2469"
      ]
     },
     "execution_count": 10,
     "metadata": {},
     "output_type": "execute_result"
    }
   ],
   "source": [
    "'''\n",
    "2.) What are the most desired Databases next year (2020)?\n",
    "Data\n",
    "'''\n",
    "df_desired_databases=get_df_desired_x(df_2019,'DatabaseDesireNextYear','DatabaseDesired')\n",
    "df_desired_databases"
   ]
  },
  {
   "cell_type": "code",
   "execution_count": 11,
   "metadata": {},
   "outputs": [
    {
     "data": {
      "text/plain": [
       "<Figure size 576x396 with 0 Axes>"
      ]
     },
     "metadata": {},
     "output_type": "display_data"
    },
    {
     "data": {
      "image/png": "[encoded data removed]",
      "text/plain": [
       "<Figure size 576x396 with 1 Axes>"
      ]
     },
     "metadata": {},
     "output_type": "display_data"
    }
   ],
   "source": [
    "'''\n",
    "2.) What are the most desired Databases next year (2020)?\n",
    "Plot\n",
    "'''\n",
    "plt.figure()\n",
    "df_desired_databases.plot(kind='bar')\n",
    "plt.title('Most desired Databases next year (2020)')\n",
    "plt.ylabel('Desire Count')\n",
    "plt.show()"
   ]
  },
  {
   "cell_type": "code",
   "execution_count": null,
   "metadata": {},
   "outputs": [],
   "source": []
  }
 ],
 "metadata": {
  "kernelspec": {
   "display_name": "Python 3",
   "language": "python",
   "name": "python3"
  },
  "language_info": {
   "codemirror_mode": {
    "name": "ipython",
    "version": 3
   },
   "file_extension": ".py",
   "mimetype": "text/x-python",
   "name": "python",
   "nbconvert_exporter": "python",
   "pygments_lexer": "ipython3",
   "version": "3.8.2"
  }
 },
 "nbformat": 4,
 "nbformat_minor": 4
}
